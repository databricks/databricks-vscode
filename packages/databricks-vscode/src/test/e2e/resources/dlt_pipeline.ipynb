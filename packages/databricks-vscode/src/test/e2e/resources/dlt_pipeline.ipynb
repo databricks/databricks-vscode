{
 "cells": [
  {
   "cell_type": "code",
   "execution_count": null,
   "metadata": {},
   "outputs": [],
   "source": [
    "import dlt\n",
    "\n",
    "@dlt.view\n",
    "def test_view():\n",
    "  return spark.sql(\"SELECT 1\")\n",
    "\n",
    "@dlt.table\n",
    "def test_table():\n",
    "  return dlt.read(\"test_view\")"
   ]
  }
 ],
 "metadata": {
  "language_info": {
   "name": "python"
  }
 },
 "nbformat": 4,
 "nbformat_minor": 2
}
